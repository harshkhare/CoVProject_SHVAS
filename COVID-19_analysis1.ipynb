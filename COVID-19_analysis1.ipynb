{
 "cells": [
  {
   "cell_type": "code",
   "execution_count": 18,
   "metadata": {},
   "outputs": [],
   "source": [
    "%matplotlib inline"
   ]
  },
  {
   "cell_type": "code",
   "execution_count": 24,
   "metadata": {},
   "outputs": [],
   "source": [
    "import numpy as np\n",
    "import pandas as pd\n",
    "import matplotlib.pyplot as plt\n",
    "from matplotlib.ticker import StrMethodFormatter"
   ]
  },
  {
   "cell_type": "code",
   "execution_count": 3,
   "metadata": {},
   "outputs": [],
   "source": [
    "datadir_daily_reports = \"../data/COVID-19-master/csse_covid_19_data/csse_covid_19_daily_reports/\""
   ]
  },
  {
   "cell_type": "code",
   "execution_count": 15,
   "metadata": {},
   "outputs": [],
   "source": [
    "df = pd.read_csv(filepath_or_buffer=datadir_daily_reports+\"03-15-2020.csv\")"
   ]
  },
  {
   "cell_type": "code",
   "execution_count": 16,
   "metadata": {},
   "outputs": [
    {
     "data": {
      "text/html": [
       "<div>\n",
       "<style scoped>\n",
       "    .dataframe tbody tr th:only-of-type {\n",
       "        vertical-align: middle;\n",
       "    }\n",
       "\n",
       "    .dataframe tbody tr th {\n",
       "        vertical-align: top;\n",
       "    }\n",
       "\n",
       "    .dataframe thead th {\n",
       "        text-align: right;\n",
       "    }\n",
       "</style>\n",
       "<table border=\"1\" class=\"dataframe\">\n",
       "  <thead>\n",
       "    <tr style=\"text-align: right;\">\n",
       "      <th></th>\n",
       "      <th>Province/State</th>\n",
       "      <th>Country/Region</th>\n",
       "      <th>Last Update</th>\n",
       "      <th>Confirmed</th>\n",
       "      <th>Deaths</th>\n",
       "      <th>Recovered</th>\n",
       "      <th>Latitude</th>\n",
       "      <th>Longitude</th>\n",
       "    </tr>\n",
       "  </thead>\n",
       "  <tbody>\n",
       "    <tr>\n",
       "      <th>0</th>\n",
       "      <td>Hubei</td>\n",
       "      <td>China</td>\n",
       "      <td>2020-03-15T18:20:18</td>\n",
       "      <td>67794</td>\n",
       "      <td>3085</td>\n",
       "      <td>54288</td>\n",
       "      <td>30.9756</td>\n",
       "      <td>112.2707</td>\n",
       "    </tr>\n",
       "    <tr>\n",
       "      <th>1</th>\n",
       "      <td>NaN</td>\n",
       "      <td>Italy</td>\n",
       "      <td>2020-03-14T20:13:16</td>\n",
       "      <td>24747</td>\n",
       "      <td>1809</td>\n",
       "      <td>2335</td>\n",
       "      <td>41.8719</td>\n",
       "      <td>12.5674</td>\n",
       "    </tr>\n",
       "    <tr>\n",
       "      <th>2</th>\n",
       "      <td>NaN</td>\n",
       "      <td>Iran</td>\n",
       "      <td>2020-03-15T18:20:18</td>\n",
       "      <td>13938</td>\n",
       "      <td>724</td>\n",
       "      <td>4590</td>\n",
       "      <td>32.4279</td>\n",
       "      <td>53.6880</td>\n",
       "    </tr>\n",
       "    <tr>\n",
       "      <th>3</th>\n",
       "      <td>NaN</td>\n",
       "      <td>Korea, South</td>\n",
       "      <td>2020-03-15T18:20:18</td>\n",
       "      <td>8162</td>\n",
       "      <td>75</td>\n",
       "      <td>510</td>\n",
       "      <td>35.9078</td>\n",
       "      <td>127.7669</td>\n",
       "    </tr>\n",
       "    <tr>\n",
       "      <th>4</th>\n",
       "      <td>NaN</td>\n",
       "      <td>Spain</td>\n",
       "      <td>2020-03-15T18:20:18</td>\n",
       "      <td>7798</td>\n",
       "      <td>289</td>\n",
       "      <td>517</td>\n",
       "      <td>40.4637</td>\n",
       "      <td>-3.7492</td>\n",
       "    </tr>\n",
       "  </tbody>\n",
       "</table>\n",
       "</div>"
      ],
      "text/plain": [
       "  Province/State Country/Region          Last Update  Confirmed  Deaths  \\\n",
       "0          Hubei          China  2020-03-15T18:20:18      67794    3085   \n",
       "1            NaN          Italy  2020-03-14T20:13:16      24747    1809   \n",
       "2            NaN           Iran  2020-03-15T18:20:18      13938     724   \n",
       "3            NaN   Korea, South  2020-03-15T18:20:18       8162      75   \n",
       "4            NaN          Spain  2020-03-15T18:20:18       7798     289   \n",
       "\n",
       "   Recovered  Latitude  Longitude  \n",
       "0      54288   30.9756   112.2707  \n",
       "1       2335   41.8719    12.5674  \n",
       "2       4590   32.4279    53.6880  \n",
       "3        510   35.9078   127.7669  \n",
       "4        517   40.4637    -3.7492  "
      ]
     },
     "execution_count": 16,
     "metadata": {},
     "output_type": "execute_result"
    }
   ],
   "source": [
    "df.head()"
   ]
  },
  {
   "cell_type": "code",
   "execution_count": 17,
   "metadata": {},
   "outputs": [],
   "source": [
    "#Do not do this.\n",
    "#df[\"Province/State\"].fillna(method='ffill', inplace=True)\n",
    "#df.head()"
   ]
  },
  {
   "cell_type": "code",
   "execution_count": 47,
   "metadata": {},
   "outputs": [
    {
     "data": {
      "text/html": [
       "<div>\n",
       "<style scoped>\n",
       "    .dataframe tbody tr th:only-of-type {\n",
       "        vertical-align: middle;\n",
       "    }\n",
       "\n",
       "    .dataframe tbody tr th {\n",
       "        vertical-align: top;\n",
       "    }\n",
       "\n",
       "    .dataframe thead th {\n",
       "        text-align: right;\n",
       "    }\n",
       "</style>\n",
       "<table border=\"1\" class=\"dataframe\">\n",
       "  <thead>\n",
       "    <tr style=\"text-align: right;\">\n",
       "      <th></th>\n",
       "      <th>Province/State</th>\n",
       "      <th>Country/Region</th>\n",
       "      <th>Last Update</th>\n",
       "      <th>Confirmed</th>\n",
       "      <th>Deaths</th>\n",
       "      <th>Recovered</th>\n",
       "      <th>Latitude</th>\n",
       "      <th>Longitude</th>\n",
       "    </tr>\n",
       "  </thead>\n",
       "  <tbody>\n",
       "    <tr>\n",
       "      <th>6</th>\n",
       "      <td>France</td>\n",
       "      <td>France</td>\n",
       "      <td>2020-03-15T18:20:18</td>\n",
       "      <td>4499</td>\n",
       "      <td>91</td>\n",
       "      <td>12</td>\n",
       "      <td>46.2276</td>\n",
       "      <td>2.2137</td>\n",
       "    </tr>\n",
       "    <tr>\n",
       "      <th>185</th>\n",
       "      <td>French Guiana</td>\n",
       "      <td>France</td>\n",
       "      <td>2020-03-15T06:53:03</td>\n",
       "      <td>7</td>\n",
       "      <td>0</td>\n",
       "      <td>0</td>\n",
       "      <td>3.9339</td>\n",
       "      <td>-53.1258</td>\n",
       "    </tr>\n",
       "    <tr>\n",
       "      <th>195</th>\n",
       "      <td>French Polynesia</td>\n",
       "      <td>France</td>\n",
       "      <td>2020-03-15T18:20:19</td>\n",
       "      <td>3</td>\n",
       "      <td>0</td>\n",
       "      <td>0</td>\n",
       "      <td>-17.6797</td>\n",
       "      <td>-149.4068</td>\n",
       "    </tr>\n",
       "    <tr>\n",
       "      <th>208</th>\n",
       "      <td>St Martin</td>\n",
       "      <td>France</td>\n",
       "      <td>2020-03-14T16:33:03</td>\n",
       "      <td>2</td>\n",
       "      <td>0</td>\n",
       "      <td>0</td>\n",
       "      <td>18.0708</td>\n",
       "      <td>-63.0501</td>\n",
       "    </tr>\n",
       "    <tr>\n",
       "      <th>232</th>\n",
       "      <td>Mayotte</td>\n",
       "      <td>France</td>\n",
       "      <td>2020-03-14T20:53:03</td>\n",
       "      <td>1</td>\n",
       "      <td>0</td>\n",
       "      <td>0</td>\n",
       "      <td>-12.8275</td>\n",
       "      <td>45.1662</td>\n",
       "    </tr>\n",
       "    <tr>\n",
       "      <th>233</th>\n",
       "      <td>Saint Barthelemy</td>\n",
       "      <td>France</td>\n",
       "      <td>2020-03-14T16:33:03</td>\n",
       "      <td>1</td>\n",
       "      <td>0</td>\n",
       "      <td>0</td>\n",
       "      <td>17.9000</td>\n",
       "      <td>-62.8333</td>\n",
       "    </tr>\n",
       "  </tbody>\n",
       "</table>\n",
       "</div>"
      ],
      "text/plain": [
       "       Province/State Country/Region          Last Update  Confirmed  Deaths  \\\n",
       "6              France         France  2020-03-15T18:20:18       4499      91   \n",
       "185     French Guiana         France  2020-03-15T06:53:03          7       0   \n",
       "195  French Polynesia         France  2020-03-15T18:20:19          3       0   \n",
       "208         St Martin         France  2020-03-14T16:33:03          2       0   \n",
       "232           Mayotte         France  2020-03-14T20:53:03          1       0   \n",
       "233  Saint Barthelemy         France  2020-03-14T16:33:03          1       0   \n",
       "\n",
       "     Recovered  Latitude  Longitude  \n",
       "6           12   46.2276     2.2137  \n",
       "185          0    3.9339   -53.1258  \n",
       "195          0  -17.6797  -149.4068  \n",
       "208          0   18.0708   -63.0501  \n",
       "232          0  -12.8275    45.1662  \n",
       "233          0   17.9000   -62.8333  "
      ]
     },
     "execution_count": 47,
     "metadata": {},
     "output_type": "execute_result"
    }
   ],
   "source": [
    "df[df[\"Country/Region\"]==\"France\"]"
   ]
  },
  {
   "cell_type": "code",
   "execution_count": 35,
   "metadata": {},
   "outputs": [],
   "source": [
    "def plotHistogram(col=None,weights=None,xTitle=\"\",yTitle=None):\n",
    "  #ax = dataframe.hist(column=dataframe[col], weights=weights)\n",
    "  ax = col.hist(weights=weights)\n",
    "  #ax = ax[0]\n",
    "\n",
    "  #for x in ax:\n",
    "\n",
    "  # Despine\n",
    "  ax.spines['right'].set_visible(False)\n",
    "  ax.spines['top'].set_visible(False)\n",
    "  ax.spines['left'].set_visible(False)\n",
    "\n",
    "  # Switch off ticks\n",
    "  ax.tick_params(axis=\"both\", which=\"both\", bottom=\"off\", top=\"off\", labelbottom=\"on\", left=\"off\", right=\"off\", labelleft=\"on\")\n",
    "\n",
    "  # Draw horizontal axis lines\n",
    "  vals = ax.get_yticks()\n",
    "  for tick in vals:\n",
    "      ax.axhline(y=tick, linestyle='dashed', alpha=0.4, color='#eeeeee', zorder=1)\n",
    "\n",
    "  # Remove title\n",
    "  ax.set_title(\"\")\n",
    "\n",
    "  # Set x-axis label\n",
    "  ax.set_xlabel(xTitle, labelpad=20, weight='bold', size=12)\n",
    "\n",
    "  # Set y-axis label\n",
    "  ax.set_ylabel(yTitle, labelpad=20, weight='bold', size=12)\n",
    "\n",
    "  # Format y-axis label\n",
    "  ax.yaxis.set_major_formatter(StrMethodFormatter('{x:,g}'))\n",
    "      \n",
    "  return(ax)"
   ]
  },
  {
   "cell_type": "code",
   "execution_count": 39,
   "metadata": {},
   "outputs": [
    {
     "data": {
      "text/plain": [
       "<matplotlib.axes._subplots.AxesSubplot at 0x7f78114c8f28>"
      ]
     },
     "execution_count": 39,
     "metadata": {},
     "output_type": "execute_result"
    },
    {
     "data": {
      "image/png": "[encoded data removed]",
      "text/plain": [
       "<Figure size 432x288 with 1 Axes>"
      ]
     },
     "metadata": {
      "needs_background": "light"
     },
     "output_type": "display_data"
    }
   ],
   "source": [
    "plotHistogram(col=df.Latitude, weights=None, xTitle=\"Latitude\", yTitle=\"Locations\")"
   ]
  },
  {
   "cell_type": "code",
   "execution_count": 40,
   "metadata": {},
   "outputs": [
    {
     "data": {
      "text/plain": [
       "<matplotlib.axes._subplots.AxesSubplot at 0x7f78114483c8>"
      ]
     },
     "execution_count": 40,
     "metadata": {},
     "output_type": "execute_result"
    },
    {
     "data": {
      "image/png": "[encoded data removed]",
      "text/plain": [
       "<Figure size 432x288 with 1 Axes>"
      ]
     },
     "metadata": {
      "needs_background": "light"
     },
     "output_type": "display_data"
    }
   ],
   "source": [
    "plotHistogram(col=df.Latitude, weights=df.Confirmed, xTitle=\"Latitude\", yTitle=\"Confirmed cases\")"
   ]
  },
  {
   "cell_type": "code",
   "execution_count": 42,
   "metadata": {},
   "outputs": [
    {
     "data": {
      "text/plain": [
       "<matplotlib.axes._subplots.AxesSubplot at 0x7f78113baa58>"
      ]
     },
     "execution_count": 42,
     "metadata": {},
     "output_type": "execute_result"
    },
    {
     "data": {
      "image/png": "[encoded data removed]",
      "text/plain": [
       "<Figure size 432x288 with 1 Axes>"
      ]
     },
     "metadata": {
      "needs_background": "light"
     },
     "output_type": "display_data"
    }
   ],
   "source": [
    "plotHistogram(col=df.Latitude, weights=df.Deaths, xTitle=\"Latitude\", yTitle=\"Deaths\")"
   ]
  },
  {
   "cell_type": "code",
   "execution_count": 44,
   "metadata": {},
   "outputs": [
    {
     "data": {
      "text/plain": [
       "<matplotlib.axes._subplots.AxesSubplot at 0x7f78110842b0>"
      ]
     },
     "execution_count": 44,
     "metadata": {},
     "output_type": "execute_result"
    },
    {
     "data": {
      "image/png": "[encoded data removed]",
      "text/plain": [
       "<Figure size 432x288 with 1 Axes>"
      ]
     },
     "metadata": {
      "needs_background": "light"
     },
     "output_type": "display_data"
    }
   ],
   "source": [
    "plotHistogram(col=df.Latitude, weights=df.Recovered, xTitle=\"Latitude\", yTitle=\"Recovered cases\")"
   ]
  },
  {
   "cell_type": "code",
   "execution_count": null,
   "metadata": {},
   "outputs": [],
   "source": []
  },
  {
   "cell_type": "code",
   "execution_count": null,
   "metadata": {},
   "outputs": [],
   "source": []
  },
  {
   "cell_type": "code",
   "execution_count": 21,
   "metadata": {},
   "outputs": [
    {
     "data": {
      "text/plain": [
       "count    258.000000\n",
       "mean      27.534099\n",
       "std       22.760023\n",
       "min      -41.454500\n",
       "25%       15.345875\n",
       "50%       33.913000\n",
       "75%       42.750475\n",
       "max       64.963100\n",
       "Name: Latitude, dtype: float64"
      ]
     },
     "execution_count": 21,
     "metadata": {},
     "output_type": "execute_result"
    }
   ],
   "source": [
    "df[\"Latitude\"].describe()"
   ]
  },
  {
   "cell_type": "code",
   "execution_count": null,
   "metadata": {},
   "outputs": [],
   "source": []
  },
  {
   "cell_type": "code",
   "execution_count": 48,
   "metadata": {},
   "outputs": [
    {
     "data": {
      "text/plain": [
       "'../data/COVID-19-master/csse_covid_19_data/csse_covid_19_daily_reports/'"
      ]
     },
     "execution_count": 48,
     "metadata": {},
     "output_type": "execute_result"
    }
   ],
   "source": [
    "datadir"
   ]
  },
  {
   "cell_type": "code",
   "execution_count": 52,
   "metadata": {},
   "outputs": [],
   "source": [
    "import glob"
   ]
  },
  {
   "cell_type": "code",
   "execution_count": 59,
   "metadata": {},
   "outputs": [],
   "source": [
    "files = \"*.csv\"\n",
    "file_list = glob.glob(datadir_daily_reports+files)\n",
    "#file_list"
   ]
  },
  {
   "cell_type": "code",
   "execution_count": 61,
   "metadata": {},
   "outputs": [
    {
     "name": "stdout",
     "output_type": "stream",
     "text": [
      "(72, 6)\n",
      "(94, 6)\n",
      "(38, 6)\n",
      "(46, 6)\n",
      "(41, 6)\n",
      "(44, 6)\n",
      "(47, 6)\n",
      "(51, 6)\n",
      "(52, 6)\n",
      "(54, 6)\n",
      "(58, 6)\n",
      "(62, 6)\n",
      "(67, 6)\n",
      "(67, 6)\n",
      "(68, 6)\n",
      "(70, 6)\n",
      "(71, 6)\n",
      "(71, 6)\n",
      "(72, 6)\n",
      "(72, 6)\n",
      "(72, 6)\n",
      "(73, 6)\n",
      "(73, 6)\n",
      "(74, 6)\n",
      "(75, 6)\n",
      "(75, 6)\n",
      "(75, 6)\n",
      "(75, 6)\n",
      "(75, 6)\n",
      "(76, 6)\n",
      "(76, 6)\n",
      "(84, 6)\n",
      "(84, 6)\n",
      "(85, 6)\n",
      "(90, 6)\n",
      "(101, 6)\n",
      "(105, 6)\n",
      "(114, 6)\n",
      "(119, 6)\n",
      "(125, 8)\n",
      "(141, 8)\n",
      "(151, 8)\n",
      "(160, 8)\n",
      "(173, 8)\n",
      "(199, 8)\n",
      "(225, 8)\n",
      "(255, 8)\n",
      "(266, 8)\n",
      "(206, 8)\n",
      "(216, 8)\n",
      "(218, 8)\n",
      "(230, 8)\n",
      "(249, 8)\n",
      "(258, 8)\n"
     ]
    }
   ],
   "source": [
    "for infile in file_list:\n",
    "  df = pd.read_csv(filepath_or_buffer=infile)\n",
    "  print(df.shape)"
   ]
  },
  {
   "cell_type": "code",
   "execution_count": null,
   "metadata": {},
   "outputs": [],
   "source": []
  }
 ],
 "metadata": {
  "kernelspec": {
   "display_name": "Python 3",
   "language": "python",
   "name": "python3"
  },
  "language_info": {
   "codemirror_mode": {
    "name": "ipython",
    "version": 3
   },
   "file_extension": ".py",
   "mimetype": "text/x-python",
   "name": "python",
   "nbconvert_exporter": "python",
   "pygments_lexer": "ipython3",
   "version": "3.7.3"
  }
 },
 "nbformat": 4,
 "nbformat_minor": 2
}
